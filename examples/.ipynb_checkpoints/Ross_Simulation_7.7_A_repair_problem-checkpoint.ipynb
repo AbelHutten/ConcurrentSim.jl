{
 "cells": [
  {
   "cell_type": "markdown",
   "metadata": {},
   "source": [
    "# A Repair Problem\n",
    "Ross, Simulation 5th edition, Section 7.7, p. 124-126"
   ]
  },
  {
   "cell_type": "markdown",
   "metadata": {},
   "source": [
    "## Description"
   ]
  },
  {
   "cell_type": "markdown",
   "metadata": {},
   "source": [
    "A system needs $n$ working machines to be operational. To guard against machine breakdown, additional machines are kept available as spares. Whenever a machine breaks down it is immediately replaced by a spare and is itself sent to the repair facility, which consists of a single repairperson who repairs failed machines one at a time. Once a failed machine has been repaired it becomes available as a spare to be used when the need arises. All repair times are independent random variables having the common distribution function $G$. Each time a machine is put into use the amount of time it functions before breaking down is a random variable, independent of the past, having distribution function $F$.\n",
    "\n",
    "The system is said to “crash” when a machine fails and no spares are available. Assuming that there are initially $n + s$ functional machines of which $n$ are put in use and $s$ are kept as spares, we are interested in simulating this system so as to approximate $E[T]$, where $T$ is the time at which the system crashes."
   ]
  },
  {
   "cell_type": "markdown",
   "metadata": {},
   "source": [
    "## Install packages"
   ]
  },
  {
   "cell_type": "code",
   "execution_count": null,
   "metadata": {
    "collapsed": false
   },
   "outputs": [],
   "source": [
    "Pkg.update()\n",
    "Pkg.add(\"Distributions\")\n",
    "Pkg.add(\"SimJulia\")"
   ]
  },
  {
   "cell_type": "markdown",
   "metadata": {},
   "source": [
    "## Use Distributions.jl and SimJulia.jl"
   ]
  },
  {
   "cell_type": "code",
   "execution_count": 1,
   "metadata": {
    "collapsed": true
   },
   "outputs": [],
   "source": [
    "using Distributions\n",
    "using ResumableFunctions\n",
    "using SimJulia"
   ]
  },
  {
   "cell_type": "markdown",
   "metadata": {},
   "source": [
    "## Define constants"
   ]
  },
  {
   "cell_type": "code",
   "execution_count": 2,
   "metadata": {
    "collapsed": false
   },
   "outputs": [],
   "source": [
    "const RUNS = 5\n",
    "const N = 10\n",
    "const S = 3\n",
    "const SEED = 150\n",
    "const LAMBDA = 100\n",
    "const MU = 1;"
   ]
  },
  {
   "cell_type": "markdown",
   "metadata": {},
   "source": [
    "## Define the behaviour of a machine"
   ]
  },
  {
   "cell_type": "code",
   "execution_count": 7,
   "metadata": {
    "collapsed": false
   },
   "outputs": [
    {
     "ename": "LoadError",
     "evalue": "\u001b[91mMethodError: no method matching start(::Void)\u001b[0m\nClosest candidates are:\n  start(\u001b[91m::SimpleVector\u001b[39m) at essentials.jl:258\n  start(\u001b[91m::Base.MethodList\u001b[39m) at reflection.jl:560\n  start(\u001b[91m::ExponentialBackOff\u001b[39m) at error.jl:107\n  ...\u001b[39m",
     "output_type": "error",
     "traceback": [
      "\u001b[91mMethodError: no method matching start(::Void)\u001b[0m\nClosest candidates are:\n  start(\u001b[91m::SimpleVector\u001b[39m) at essentials.jl:258\n  start(\u001b[91m::Base.MethodList\u001b[39m) at reflection.jl:560\n  start(\u001b[91m::ExponentialBackOff\u001b[39m) at error.jl:107\n  ...\u001b[39m",
      ""
     ]
    }
   ],
   "source": [
    "@resumable function machine(sim::Simulation, repair_facility::Resource, spares::Store{Coroutine})\n",
    "    dist_work = Exponential(LAMBDA)\n",
    "    dist_repair = Exponential(MU)\n",
    "    while true\n",
    "        try \n",
    "            @yield Timeout(sim, Inf)\n",
    "        catch\n",
    "        end\n",
    "        #println(\"At time $(now(sim)): $(active_process(sim)) starts working.\")\n",
    "        @yield Timeout(sim, rand(dist_work))\n",
    "        #println(\"At time $(now(sim)): $(active_process(sim)) stops working.\")\n",
    "        get_spare = Get(spares)\n",
    "        @yield get_spare | Timeout(sim, 0.0)\n",
    "        if state(get_spare) != SimJulia.idle\n",
    "            interrupt(value(get_spare))\n",
    "        else\n",
    "            throw(SimJulia.StopSimulation(\"No more spares!\"))\n",
    "        end\n",
    "        @yield Request(repair_facility)\n",
    "        #println(\"At time $(now(sim)): $(active_process(sim)) repair starts.\")\n",
    "        @yield Timeout(sim, rand(dist_repair))\n",
    "        @yield Release(repair_facility)\n",
    "        #println(\"At time $(now(sim)): $(active_process(sim)) is repaired.\")\n",
    "        @yield Put(spares, active_process(sim))\n",
    "    end\n",
    "end\n"
   ]
  },
  {
   "cell_type": "markdown",
   "metadata": {},
   "source": [
    "## Startup procedure"
   ]
  },
  {
   "cell_type": "code",
   "execution_count": 4,
   "metadata": {
    "collapsed": false
   },
   "outputs": [
    {
     "data": {
      "text/plain": [
       "start_sim (generic function with 1 method)"
      ]
     },
     "execution_count": 4,
     "metadata": {},
     "output_type": "execute_result"
    }
   ],
   "source": [
    "@resumable function start_sim(sim::Simulation, repair_facility::Resource, spares::Store{Coroutine})\n",
    "    procs = Coroutine[]\n",
    "    for i=1:N\n",
    "        push!(procs, @coroutine machine(sim, repair_facility, spares))\n",
    "    end\n",
    "    @yield Timeout(sim, 0.0)\n",
    "    for proc in procs\n",
    "        interrupt(proc)\n",
    "    end\n",
    "    for i=1:S\n",
    "        @yield Put(spares, @coroutine machine(sim, repair_facility, spares))\n",
    "    end\n",
    "end"
   ]
  },
  {
   "cell_type": "markdown",
   "metadata": {},
   "source": [
    "## One simulation run"
   ]
  },
  {
   "cell_type": "code",
   "execution_count": 5,
   "metadata": {
    "collapsed": false
   },
   "outputs": [
    {
     "data": {
      "text/plain": [
       "sim_repair (generic function with 1 method)"
      ]
     },
     "execution_count": 5,
     "metadata": {},
     "output_type": "execute_result"
    }
   ],
   "source": [
    "function sim_repair()\n",
    "    sim = Simulation()\n",
    "    repair_facility = Resource(sim)\n",
    "    spares = Store(Coroutine, sim)\n",
    "    @coroutine start_sim(sim, repair_facility, spares)\n",
    "    msg = run(sim)\n",
    "    stop_time = now(sim)\n",
    "    println(\"At time $stop_time: $msg\")\n",
    "    stop_time\n",
    "end"
   ]
  },
  {
   "cell_type": "markdown",
   "metadata": {},
   "source": [
    "## Multiple simulations"
   ]
  },
  {
   "cell_type": "code",
   "execution_count": 6,
   "metadata": {
    "collapsed": false
   },
   "outputs": [
    {
     "ename": "LoadError",
     "evalue": "\u001b[91mUndefVarError: machine not defined\u001b[39m",
     "output_type": "error",
     "traceback": [
      "\u001b[91mUndefVarError: machine not defined\u001b[39m",
      "",
      "Stacktrace:",
      " [1] \u001b[1mmacro expansion\u001b[22m\u001b[22m at \u001b[1m/home/juser/.julia/v0.6/ResumableFunctions/src/transforms.jl:16\u001b[22m\u001b[22m [inlined]",
      " [2] \u001b[1mmacro expansion\u001b[22m\u001b[22m at \u001b[1m./In[4]:14\u001b[22m\u001b[22m [inlined]",
      " [3] \u001b[1mmacro expansion\u001b[22m\u001b[22m at \u001b[1m/home/juser/.julia/v0.6/ResumableFunctions/src/macro.jl:66\u001b[22m\u001b[22m [inlined]",
      " [4] \u001b[1m(::##660)\u001b[22m\u001b[22m\u001b[1m(\u001b[22m\u001b[22m::Void\u001b[1m)\u001b[22m\u001b[22m at \u001b[1m/home/juser/.julia/v0.6/ResumableFunctions/src/macrotoolutils.jl:99\u001b[22m\u001b[22m",
      " [5] \u001b[1mexecute\u001b[22m\u001b[22m\u001b[1m(\u001b[22m\u001b[22m::SimJulia.Timeout, ::SimJulia.Coroutine\u001b[1m)\u001b[22m\u001b[22m at \u001b[1m/home/juser/.julia/v0.6/SimJulia/src/coroutines.jl:27\u001b[22m\u001b[22m",
      " [6] \u001b[1m(::SimJulia.##3#4{SimJulia.#execute,SimJulia.Timeout,Tuple{SimJulia.Coroutine}})\u001b[22m\u001b[22m\u001b[1m(\u001b[22m\u001b[22m\u001b[1m)\u001b[22m\u001b[22m at \u001b[1m/home/juser/.julia/v0.6/SimJulia/src/base.jl:43\u001b[22m\u001b[22m",
      " [7] \u001b[1mstep\u001b[22m\u001b[22m\u001b[1m(\u001b[22m\u001b[22m::SimJulia.Simulation\u001b[1m)\u001b[22m\u001b[22m at \u001b[1m/home/juser/.julia/v0.6/SimJulia/src/simulations.jl:39\u001b[22m\u001b[22m",
      " [8] \u001b[1mrun\u001b[22m\u001b[22m\u001b[1m(\u001b[22m\u001b[22m::SimJulia.Simulation, ::SimJulia.Timeout\u001b[1m)\u001b[22m\u001b[22m at \u001b[1m/home/juser/.julia/v0.6/SimJulia/src/base.jl:87\u001b[22m\u001b[22m",
      " [9] \u001b[1msim_repair\u001b[22m\u001b[22m\u001b[1m(\u001b[22m\u001b[22m\u001b[1m)\u001b[22m\u001b[22m at \u001b[1m./In[5]:6\u001b[22m\u001b[22m",
      " [10] \u001b[1mmacro expansion\u001b[22m\u001b[22m at \u001b[1m./In[6]:4\u001b[22m\u001b[22m [inlined]",
      " [11] \u001b[1manonymous\u001b[22m\u001b[22m at \u001b[1m./<missing>:?\u001b[22m\u001b[22m"
     ]
    }
   ],
   "source": [
    "srand(SEED)\n",
    "results = Float64[]\n",
    "for i=1:RUNS\n",
    "    push!(results, sim_repair())\n",
    "end\n",
    "println(sum(results)/RUNS)"
   ]
  },
  {
   "cell_type": "code",
   "execution_count": null,
   "metadata": {
    "collapsed": true
   },
   "outputs": [],
   "source": []
  }
 ],
 "metadata": {
  "kernelspec": {
   "display_name": "Julia 0.6.0",
   "language": "julia",
   "name": "julia-0.6"
  },
  "language_info": {
   "file_extension": ".jl",
   "mimetype": "application/julia",
   "name": "julia",
   "version": "0.6.0"
  }
 },
 "nbformat": 4,
 "nbformat_minor": 2
}
